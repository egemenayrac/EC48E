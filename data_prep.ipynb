{
 "cells": [
  {
   "cell_type": "markdown",
   "id": "1f1d4756",
   "metadata": {},
   "source": [
    "TÜFE dosyasını oku"
   ]
  },
  {
   "cell_type": "markdown",
   "id": "32ddf76e",
   "metadata": {},
   "source": [
    "cpi processing"
   ]
  },
  {
   "cell_type": "code",
   "execution_count": null,
   "id": "e7576e0e",
   "metadata": {},
   "outputs": [],
   "source": [
    "import pandas as pd\n",
    "\n",
    "def process_data(input_file_path, output_file_path=\"cpi_data_eom.csv\"):\n",
    "    single_column_series = pd.read_excel(input_file_path, header=None, usecols=[0], dtype=str).squeeze(\"columns\").dropna()\n",
    "    data_csv_strings = single_column_series.iloc[1:]\n",
    "    split_data = data_csv_strings.str.split(',', expand=True)\n",
    "    \n",
    "    df_processed = pd.DataFrame()\n",
    "    df_processed['Period_Raw'] = split_data.iloc[:, 0].str.strip().str.strip('\"')\n",
    "    df_processed['CPI_Raw'] = split_data.iloc[:, 1].str.strip().str.strip('\"')\n",
    "    \n",
    "    df_processed['Date'] = pd.to_datetime(df_processed['Period_Raw'], format='%m-%Y')\n",
    "    df_processed['Annual_CPI'] = df_processed['CPI_Raw'].str.replace(',', '.', regex=False).astype(float)\n",
    "    df_processed['Date'] = df_processed['Date'] + pd.offsets.MonthEnd(0)\n",
    "    \n",
    "    df_processed = df_processed.sort_values(by='Date')\n",
    "    \n",
    "    start_date = pd.to_datetime('2006-01-01')\n",
    "    end_date = pd.to_datetime('2024-12-31')\n",
    "    \n",
    "    df_filtered = df_processed[(df_processed['Date'] >= start_date) & (df_processed['Date'] <= end_date)]\n",
    "    \n",
    "    df_final_output = df_filtered[['Date', 'Annual_CPI']].set_index('Date')\n",
    "    df_final_output.to_csv(output_file_path)\n",
    "\n",
    "if __name__ == '__main__':\n",
    "    input_excel_file = \"tcmb_data/tüfe.xlsx\" \n",
    "    output_csv_file = \"tcmb_data/cpi_annual_eom_2006-2024.csv\"\n",
    "    process_data(input_excel_file, output_file_path=output_csv_file)"
   ]
  },
  {
   "cell_type": "code",
   "execution_count": 13,
   "id": "3d4009ff",
   "metadata": {},
   "outputs": [],
   "source": [
    "import pandas as pd\n",
    "from pathlib import Path\n",
    "import re\n",
    "\n",
    "def clean_price_file(\n",
    "        file_path: str | Path,\n",
    "        date_col: int | str | None = None,   # None → ilk sütun\n",
    "        price_col: int | str | None = None,  # None → ikinci sütun\n",
    "        n_rows: int | None = 227,\n",
    "        date_format: str | None = None,      # ör. \"%Y-%m\"\n",
    "        csv_sep: str = \",\"\n",
    ") -> pd.DataFrame:\n",
    "    fp = Path(file_path)\n",
    "\n",
    "    # --------- 1) OKU\n",
    "    df_raw = (pd.read_excel(fp, header=0)\n",
    "              if fp.suffix.lower() in {\".xlsx\", \".xls\"}\n",
    "              else pd.read_csv(fp, header=0))\n",
    "\n",
    "    if n_rows is not None:\n",
    "        df_raw = df_raw.iloc[:n_rows]\n",
    "\n",
    "    # --------- 2) KOLON SEÇ\n",
    "    date_col  = 0 if date_col  is None else date_col\n",
    "    price_col = 1 if price_col is None else price_col\n",
    "\n",
    "    date_series  = df_raw.iloc[:, date_col]  if isinstance(date_col,  int) else df_raw[date_col]\n",
    "    price_series = df_raw.iloc[:, price_col] if isinstance(price_col, int) else df_raw[price_col]\n",
    "\n",
    "    df = pd.DataFrame({\"date\": date_series, \"price\": price_series})\n",
    "\n",
    "    # --------- 3) DÖNÜŞÜMLER\n",
    "    # 3a) Tarih → datetime64, sonra ay sonuna kaydır\n",
    "    df[\"date\"] = pd.to_datetime(df[\"date\"], format=date_format, errors=\"coerce\") \\\n",
    "                   .add(pd.offsets.MonthEnd(0))            # ay sonu\n",
    "\n",
    "    # 3b) Fiyat string → float\n",
    "    def _clean_number(s: str) -> str:\n",
    "        if pd.isna(s):\n",
    "            return \"\"\n",
    "        s = str(s).strip()\n",
    "        s = re.sub(r\"[^\\d,.\\-]\", \"\", s)         # harf vs. sil\n",
    "        # binlik ayraç \".\" varsa kaldır, ondalık \",\" → \".\"\n",
    "        if \",\" in s:\n",
    "            whole, frac = s.split(\",\", 1)\n",
    "            whole = whole.replace(\".\", \"\")\n",
    "            s = whole + \".\" + frac\n",
    "        else:\n",
    "            s = s.replace(\".\", \"\")              # \"1.234\" → \"1234\"\n",
    "        return s\n",
    "    df[\"price\"] = pd.to_numeric(df[\"price\"].map(_clean_number), errors=\"coerce\")\n",
    "\n",
    "    # --------- 4) TEMİZLE\n",
    "    df = df.dropna(subset=[\"date\", \"price\"]).reset_index(drop=True)\n",
    "\n",
    "    # --------- 5) SADECE date & price KALSIN\n",
    "    df = df[[\"date\", \"price\"]]\n",
    "\n",
    "    # --------- 6) CSV'YE YAZ\n",
    "    out_csv = fp.with_stem(fp.stem + \"_clean\").with_suffix(\".csv\")\n",
    "    df.to_csv(out_csv, index=False, sep=csv_sep)\n",
    "    print(f\"✓ Temiz dosya kaydedildi → {out_csv}\")\n",
    "\n",
    "    return df\n"
   ]
  },
  {
   "cell_type": "code",
   "execution_count": null,
   "id": "f0ca5b7b",
   "metadata": {},
   "outputs": [
    {
     "name": "stdout",
     "output_type": "stream",
     "text": [
      "✓ Temiz dosya kaydedildi → tcmb_data\\TCMB_altın_rezerv_clean.csv\n",
      "✓ Temiz dosya kaydedildi → tcmb_data\\TCMB_döviz_rezerv_clean.csv\n",
      "✓ Temiz dosya kaydedildi → tcmb_data\\avrupa_brent_petrol_clean.csv\n",
      "✓ Temiz dosya kaydedildi → tcmb_data\\cari _işlemler_hesabı_clean.csv\n"
     ]
    }
   ],
   "source": [
    "df_clean = clean_price_file(\"tcmb_data/TCMB_altın_rezerv.xlsx\", date_format=\"%Y-%m\")\n",
    "df_clean = clean_price_file(\"tcmb_data/TCMB_döviz_rezerv.xlsx\", date_format=\"%Y-%m\")\n",
    "df_clean = clean_price_file(\"tcmb_data/avrupa_brent_petrol.xlsx\", date_format=\"%Y-%m\")\n",
    "df_clean = clean_price_file(\"tcmb_data/cari_işlemler_hesabı.xlsx\", date_format=\"%Y-%m\")"
   ]
  }
 ],
 "metadata": {
  "kernelspec": {
   "display_name": "Python 3",
   "language": "python",
   "name": "python3"
  },
  "language_info": {
   "codemirror_mode": {
    "name": "ipython",
    "version": 3
   },
   "file_extension": ".py",
   "mimetype": "text/x-python",
   "name": "python",
   "nbconvert_exporter": "python",
   "pygments_lexer": "ipython3",
   "version": "3.11.9"
  }
 },
 "nbformat": 4,
 "nbformat_minor": 5
}
